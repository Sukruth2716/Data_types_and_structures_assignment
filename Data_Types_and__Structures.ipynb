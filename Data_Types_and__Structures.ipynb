{
  "nbformat": 4,
  "nbformat_minor": 0,
  "metadata": {
    "colab": {
      "provenance": []
    },
    "kernelspec": {
      "name": "python3",
      "display_name": "Python 3"
    },
    "language_info": {
      "name": "python"
    }
  },
  "cells": [
    {
      "cell_type": "markdown",
      "source": [
        "# Theory Questions\n",
        "\n"
      ],
      "metadata": {
        "id": "Az3Q1G5AqJBr"
      }
    },
    {
      "cell_type": "markdown",
      "source": [
        "## 1. What are data structures, and why are they important?\n",
        " - Data structures are methods for organizing and storing data in a computer so that it can be used effectively. They are basic to computer science and are found in nearly every program or software system.\n",
        "  - Importance :\n",
        "    - Efficiency: The right selection of a data structure can really make a program work much better. For example, finding an item in a sorted array is much quicker than finding one in an unsorted array.\n",
        "    - Organization: Data structures provide a way to organize data in a meaningful way, making it easier to understand and work with.\n",
        "    - Reusability: Data structures are often reusable, which can save development time and effort.\n",
        "    - Abstraction: Data structures provide a level of abstraction, allowing programmers to focus on the logic of their programs rather than the details of how data is stored.\n",
        "\n",
        "## 2. Explain the difference between mutable and immutable data types with examples.\n",
        "- Mutable data types are those data types where we can mutate or change the values stored in the data type or data structure.\n",
        "- Lists, Sets and Dictionaries are those mutable data types\n",
        "\n",
        "\n",
        "\n",
        "\n"
      ],
      "metadata": {
        "id": "f0gCsNljqT3R"
      }
    },
    {
      "cell_type": "code",
      "execution_count": null,
      "metadata": {
        "colab": {
          "base_uri": "https://localhost:8080/"
        },
        "id": "ceqfDppSpsbv",
        "outputId": "d42ad8cc-5ad9-499c-d097-bed087c619d3"
      },
      "outputs": [
        {
          "output_type": "stream",
          "name": "stdout",
          "text": [
            "Enter 1st element = 1\n",
            "Enter 2nd element = 4\n",
            "Enter 3rd element = 5\n",
            "Enter 4th element = 6\n",
            "Enter 5th element = 9\n",
            "[1, 4, 5, 6, 9]\n",
            "Enter new element = 7\n",
            "The new list is [1, 4, 7, 6, 9]\n"
          ]
        }
      ],
      "source": [
        "# Examples of mutable data types/\n",
        "lis1 = []\n",
        "lis1.append(int(input(\"Enter 1st element = \")))\n",
        "lis1.append(int(input(\"Enter 2nd element = \")))\n",
        "lis1.append(int(input(\"Enter 3rd element = \")))\n",
        "lis1.append(int(input(\"Enter 4th element = \")))\n",
        "lis1.append(int(input(\"Enter 5th element = \")))\n",
        "\n",
        "print(lis1)\n",
        "lis1[2] = int(input(\"Enter new element = \"))\n",
        "print(f\"The new list is {lis1}\")\n"
      ]
    },
    {
      "cell_type": "markdown",
      "source": [
        "- Whereas the immutable data types are those where it's values are immutable or unchangable. Once the data structure is created it's values can't be changed but we can alter by creating it's new copy.\n",
        " - Strings, Tuples and Frozen sets are examples of such data types.\n",
        "\n"
      ],
      "metadata": {
        "id": "ZRoCM-Lixfa0"
      }
    },
    {
      "cell_type": "code",
      "source": [
        "# Examples of immutable data types\n",
        "name = \"My name is Sukruth\"\n",
        "print(name)\n",
        "print(\"I try to change name to A\\n\")\n",
        "name[11] = \"A\" #it gives an error as we can see item assignment is never\n",
        "print(name)\n",
        "\n",
        "\n",
        "\n",
        "\n"
      ],
      "metadata": {
        "colab": {
          "base_uri": "https://localhost:8080/",
          "height": 263
        },
        "id": "P0LL5peqwuwI",
        "outputId": "c5791971-df00-48e6-baf0-fbe0860fe38a"
      },
      "execution_count": null,
      "outputs": [
        {
          "output_type": "stream",
          "name": "stdout",
          "text": [
            "My name is Sukruth\n",
            "I try to change name to A\n",
            "\n"
          ]
        },
        {
          "output_type": "error",
          "ename": "TypeError",
          "evalue": "'str' object does not support item assignment",
          "traceback": [
            "\u001b[0;31m---------------------------------------------------------------------------\u001b[0m",
            "\u001b[0;31mTypeError\u001b[0m                                 Traceback (most recent call last)",
            "\u001b[0;32m<ipython-input-5-3974c0ae82f9>\u001b[0m in \u001b[0;36m<cell line: 5>\u001b[0;34m()\u001b[0m\n\u001b[1;32m      3\u001b[0m \u001b[0mprint\u001b[0m\u001b[0;34m(\u001b[0m\u001b[0mname\u001b[0m\u001b[0;34m)\u001b[0m\u001b[0;34m\u001b[0m\u001b[0;34m\u001b[0m\u001b[0m\n\u001b[1;32m      4\u001b[0m \u001b[0mprint\u001b[0m\u001b[0;34m(\u001b[0m\u001b[0;34m\"I try to change name to A\\n\"\u001b[0m\u001b[0;34m)\u001b[0m\u001b[0;34m\u001b[0m\u001b[0;34m\u001b[0m\u001b[0m\n\u001b[0;32m----> 5\u001b[0;31m \u001b[0mname\u001b[0m\u001b[0;34m[\u001b[0m\u001b[0;36m11\u001b[0m\u001b[0;34m]\u001b[0m \u001b[0;34m=\u001b[0m \u001b[0;34m\"A\"\u001b[0m \u001b[0;31m#it gives an error as we can see item assignment is never\u001b[0m\u001b[0;34m\u001b[0m\u001b[0;34m\u001b[0m\u001b[0m\n\u001b[0m\u001b[1;32m      6\u001b[0m \u001b[0mprint\u001b[0m\u001b[0;34m(\u001b[0m\u001b[0mname\u001b[0m\u001b[0;34m)\u001b[0m\u001b[0;34m\u001b[0m\u001b[0;34m\u001b[0m\u001b[0m\n\u001b[1;32m      7\u001b[0m \u001b[0;34m\u001b[0m\u001b[0m\n",
            "\u001b[0;31mTypeError\u001b[0m: 'str' object does not support item assignment"
          ]
        }
      ]
    },
    {
      "cell_type": "code",
      "source": [
        "#Lets say i wanna change at any cost, so we use replace()\n",
        "name = \"My name is Sukruth\"\n",
        "name = name.replace(\"Sukruth\",\"Aukruth\")\n",
        "name #thats how we play with strings but here .replace() gets a new atring\n",
        "\n",
        "\n"
      ],
      "metadata": {
        "colab": {
          "base_uri": "https://localhost:8080/",
          "height": 35
        },
        "id": "EVTMn6TWy9rK",
        "outputId": "f26c8c91-a47c-413e-97b3-07cc308e6335"
      },
      "execution_count": null,
      "outputs": [
        {
          "output_type": "execute_result",
          "data": {
            "text/plain": [
              "'My name is Aukruth'"
            ],
            "application/vnd.google.colaboratory.intrinsic+json": {
              "type": "string"
            }
          },
          "metadata": {},
          "execution_count": 25
        }
      ]
    },
    {
      "cell_type": "code",
      "source": [
        "#here's the example of how replace() returns a new string when used but the actual value of d doesn't change.\n",
        "d = 'me you'\n",
        "print(d.replace('me','you'))\n",
        "print(d)"
      ],
      "metadata": {
        "id": "o9MG_t-y0dG-",
        "colab": {
          "base_uri": "https://localhost:8080/"
        },
        "outputId": "ab904dc1-85e4-49e1-c90d-dc42966f06b1"
      },
      "execution_count": null,
      "outputs": [
        {
          "output_type": "stream",
          "name": "stdout",
          "text": [
            "you you\n",
            "me you\n"
          ]
        }
      ]
    },
    {
      "cell_type": "markdown",
      "source": [
        "## 3. What are the main differences between lists and tuples in Python?\n",
        " - The core difference between lists and tuples in Python lies in their mutability:\n",
        "\n",
        "  - Lists are mutable: This means you can change their contents after creation. You can add, remove, or modify elements within a list.\n",
        "  - Tuples are immutable: Once a tuple is created, its elements cannot be changed. You cannot add, remove, or modify elements in a tuple."
      ],
      "metadata": {
        "id": "YfLzCe9-tV0s"
      }
    },
    {
      "cell_type": "code",
      "source": [
        "# example of list\n",
        "a = [1,2,3,4,5]\n",
        "print(f\"old list is {a}\")\n",
        "a[2] = int(input(\"Enter new element = \"))\n",
        "print(f\"new list is {a}\")"
      ],
      "metadata": {
        "colab": {
          "base_uri": "https://localhost:8080/"
        },
        "id": "dEkvUDtXsx7V",
        "outputId": "52d27b08-515c-4e5a-fe29-2ea5fa00e189"
      },
      "execution_count": null,
      "outputs": [
        {
          "output_type": "stream",
          "name": "stdout",
          "text": [
            "old list is [1, 2, 3, 4, 5]\n",
            "Enter new element = 10\n",
            "new list is [1, 2, 10, 4, 5]\n"
          ]
        }
      ]
    },
    {
      "cell_type": "code",
      "source": [
        "## the same with tuples\n",
        "a = (1,2,3,4,5)\n",
        "print(f\"old tuple is {a}\")\n",
        "a[2] = int(input(\"Enter new element = \")) #here you go item assignment not possible over here\n",
        "print(f\"new tuple is {a}\")"
      ],
      "metadata": {
        "colab": {
          "base_uri": "https://localhost:8080/",
          "height": 228
        },
        "id": "XQsDz9cCuicL",
        "outputId": "aa8732d9-ed54-4357-c161-a8456280e4e3"
      },
      "execution_count": null,
      "outputs": [
        {
          "name": "stdout",
          "output_type": "stream",
          "text": [
            "old tuple is (1, 2, 3, 4, 5)\n",
            "Enter new element = 10\n"
          ]
        },
        {
          "output_type": "error",
          "ename": "TypeError",
          "evalue": "'tuple' object does not support item assignment",
          "traceback": [
            "\u001b[0;31m---------------------------------------------------------------------------\u001b[0m",
            "\u001b[0;31mTypeError\u001b[0m                                 Traceback (most recent call last)",
            "\u001b[0;32m<ipython-input-6-be4ec5fb3545>\u001b[0m in \u001b[0;36m<cell line: 4>\u001b[0;34m()\u001b[0m\n\u001b[1;32m      2\u001b[0m \u001b[0ma\u001b[0m \u001b[0;34m=\u001b[0m \u001b[0;34m(\u001b[0m\u001b[0;36m1\u001b[0m\u001b[0;34m,\u001b[0m\u001b[0;36m2\u001b[0m\u001b[0;34m,\u001b[0m\u001b[0;36m3\u001b[0m\u001b[0;34m,\u001b[0m\u001b[0;36m4\u001b[0m\u001b[0;34m,\u001b[0m\u001b[0;36m5\u001b[0m\u001b[0;34m)\u001b[0m\u001b[0;34m\u001b[0m\u001b[0;34m\u001b[0m\u001b[0m\n\u001b[1;32m      3\u001b[0m \u001b[0mprint\u001b[0m\u001b[0;34m(\u001b[0m\u001b[0;34mf\"old tuple is {a}\"\u001b[0m\u001b[0;34m)\u001b[0m\u001b[0;34m\u001b[0m\u001b[0;34m\u001b[0m\u001b[0m\n\u001b[0;32m----> 4\u001b[0;31m \u001b[0ma\u001b[0m\u001b[0;34m[\u001b[0m\u001b[0;36m2\u001b[0m\u001b[0;34m]\u001b[0m \u001b[0;34m=\u001b[0m \u001b[0mint\u001b[0m\u001b[0;34m(\u001b[0m\u001b[0minput\u001b[0m\u001b[0;34m(\u001b[0m\u001b[0;34m\"Enter new element = \"\u001b[0m\u001b[0;34m)\u001b[0m\u001b[0;34m)\u001b[0m\u001b[0;34m\u001b[0m\u001b[0;34m\u001b[0m\u001b[0m\n\u001b[0m\u001b[1;32m      5\u001b[0m \u001b[0mprint\u001b[0m\u001b[0;34m(\u001b[0m\u001b[0;34mf\"new tuple is {a}\"\u001b[0m\u001b[0;34m)\u001b[0m\u001b[0;34m\u001b[0m\u001b[0;34m\u001b[0m\u001b[0m\n",
            "\u001b[0;31mTypeError\u001b[0m: 'tuple' object does not support item assignment"
          ]
        }
      ]
    },
    {
      "cell_type": "markdown",
      "source": [
        "## 4. Describe how dictionaries store data.\n",
        " - Dictionaries in Python store data in key-value pairs. This means each piece of data is associated with a unique identifier called a \"key\". Think of it like a real-world dictionary where you look up a word (the key) to find its definition (the value).\n",
        "   - Syntax = dict = {key1 : val1, key2 : val2,.....keyn : valn}\n",
        "   - crux, the keys should be immutable, so best practice to use strings or numerical values as keys but the values of keys can hold mutable values like a list, a dictionary itself and sets etc."
      ],
      "metadata": {
        "id": "l3idd1jzvNH4"
      }
    },
    {
      "cell_type": "code",
      "source": [
        "# example of dictionary\n",
        "course = {\"Course_Name\" : \"Data_Science_and_GenAI\", \"Batch\" : \"Dec_batch\", \"student_ID\" : 143}"
      ],
      "metadata": {
        "id": "8UYEmb-fu9vz"
      },
      "execution_count": null,
      "outputs": []
    },
    {
      "cell_type": "markdown",
      "source": [
        "## 5. Why might you use a set instead of a list in Python?\n",
        " - Ensure uniqueness: Sets automatically eliminate duplicate values. If you add the same element multiple times, it will only appear once in the set. This is useful for tasks like removing duplicates from a list or storing a collection of unique items.\n",
        " - Perform set operations: Sets provide efficient methods for common set operations like union, intersection, and difference. These operations are useful for tasks like finding common elements between collections, finding elements that are present in one collection but not another, and combining collections while removing duplicates.\n",
        " - Efficient membership testing: Checking if an element is present in a set is significantly faster than checking if it's present in a list, especially for large collections. This is because sets use a hash table for storage, which allows for near-constant time lookups.\n",
        " ##  What is a string in Python, and how is it different from a list?\n",
        "  - A string in Python is a sequence of characters. It's used to represent text. You create strings by enclosing characters within single quotes ('...') or double quotes (\"...\").\n",
        "  - Example, name = \"My name is Sukruth\"\n",
        "  career = ''' I am doing Data science course from PWskills to upskill myself in Data Science field.\n",
        "  - Strings are immutable, meaning you can't change individual characters within a string once it's created. If you need to modify a string, you create a new one with the desired changes.\n",
        "  - Both strings and lists are sequences, meaning they store an ordered collection of items.\n",
        "  - Whereas strings store only sequence of characters, whereas lists store heterogenous data consisting from strings, numbers and many more.\n",
        "  - Strings are immutable whereas lists are mutable.\n",
        "  - Strings represtent only characters whereas lists can store and represent heterogenous data."
      ],
      "metadata": {
        "id": "sIHE4VxM86kX"
      }
    },
    {
      "cell_type": "code",
      "source": [
        "# Example of string\n",
        "name = \"I am Bruce Wayne\"\n",
        "print(name)"
      ],
      "metadata": {
        "colab": {
          "base_uri": "https://localhost:8080/"
        },
        "id": "vEzRyHIOx63z",
        "outputId": "1d5d16b7-7289-4efb-acc0-c26a56e2f712"
      },
      "execution_count": null,
      "outputs": [
        {
          "output_type": "stream",
          "name": "stdout",
          "text": [
            "I am Bruce Wayne\n"
          ]
        }
      ]
    },
    {
      "cell_type": "code",
      "source": [
        "#lists\n",
        "lis1 = [\"Bruce Wayne\", 143, True, 11.11, 8+2j]\n",
        "print(lis1)"
      ],
      "metadata": {
        "colab": {
          "base_uri": "https://localhost:8080/"
        },
        "id": "HUgzaLXtAGH6",
        "outputId": "d90141fc-5968-4e36-c26f-44d88c420d2d"
      },
      "execution_count": null,
      "outputs": [
        {
          "output_type": "stream",
          "name": "stdout",
          "text": [
            "['Bruce Wayne', 143, True, 11.11, (8+2j)]\n"
          ]
        }
      ]
    },
    {
      "cell_type": "markdown",
      "source": [
        "## 7. How do tuples ensure data integrity in Python?\n",
        "- The immutability of tuples is the key factor in how they ensure data integrity in Python.\n",
        "- Prevention of Accidental Modification: Once a tuple is created, its contents cannot be changed. This means that if you pass a tuple to a function or another part of your code, you can be confident that its values will not be altered. This prevents accidental bugs that might occur if the data were inadvertently modified.\n",
        "- Data Consistency: In situations where you need to ensure that data remains constant throughout the execution of a program, tuples are an excellent choice. This is particularly useful when dealing with data that represents fixed values, such as:\n",
        "Coordinates (x, y)\n",
        "Database records\n",
        "Configuration settings\n",
        "\n",
        "- Thread Safety: In multithreaded environments where multiple parts of a program might access the same data, tuples provide a level of safety. Because they are immutable, there is no risk of race conditions or data corruption that could occur if multiple threads tried to modify the same data simultaneously.\n",
        "- Use as Dictionary Keys: Because tuples are immutable, they can be used as keys in dictionaries. Lists, being mutable, cannot be used as dictionary keys. This allows you to create more complex and structured data mappings.\n",
        "## 8.  What is a hash table, and how does it relate to dictionaries in Python?\n",
        "- A hash table is a data structure that stores data in key-value pairs, similar to a dictionary. It uses a hash function to compute an index (a \"hash\") for each key, which determines where the corresponding value is stored in an array.\n",
        "- Python dictionaries are implemented using hash tables. This means that when you create a dictionary in Python, a hash table is used behind the scenes to store the key-value pairs. Hence it is relatable to dictionaries.\n",
        "- This implementation has several important implications:\n",
        " - Fast Lookups: Hash tables provide very fast average-case time complexity for lookups, insertions, and deletions (close to O(1) or constant time). This is because accessing an element in an array by its index is a very fast operation.\n",
        " - Unordered: Because the position of elements in the hash table is determined by the hash function and not by the order in which they were inserted, dictionaries are unordered.\n",
        " - Key Uniqueness: Hash tables require keys to be unique. If you try to insert a key that already exists, the old value will be overwritten. This is why dictionary keys in Python must be immutable (so that their hash values remain constant).\n",
        " ## 9. Can lists contain different data types in Python?\n",
        " - Yes lists can store heterogenous data types in them. Lists in Python are very flexible and can absolutely contain different data types within the same list. This is one of the features that makes them so versatile.\n",
        "\n"
      ],
      "metadata": {
        "id": "pdzqOtS9A9es"
      }
    },
    {
      "cell_type": "code",
      "source": [
        "# Example of list\n",
        "lis2 = [1, True, False, None, \"name\", 2.45, 2+3j]\n",
        "print(lis2)#here you go list with different data types stored in them."
      ],
      "metadata": {
        "id": "uTV7_vKtATVs",
        "colab": {
          "base_uri": "https://localhost:8080/"
        },
        "outputId": "0e2405bf-8993-45df-803f-3999817947a0"
      },
      "execution_count": 1,
      "outputs": [
        {
          "output_type": "stream",
          "name": "stdout",
          "text": [
            "[1, True, False, None, 'name', 2.45, (2+3j)]\n"
          ]
        }
      ]
    },
    {
      "cell_type": "markdown",
      "source": [
        "## 10.  Explain why strings are immutable in Python.\\\n",
        "- In Python, strings are immutable sequences of characters. Immutability means that once a string is created, its internal state—the sequence of characters it holds—cannot be directly modified. Any operation that appears to modify a string actually creates a new string object. This design choice offers several significant advantages:\n",
        " - Performance Enhancements:\n",
        "   - Memory Optimization through Sharing: Python can optimize memory usage by allowing multiple variables to reference the same string object in memory. This is particularly efficient when dealing with duplicate strings. If strings were mutable, this sharing mechanism would be problematic, as modifying the string through one variable would inadvertently affect all others referencing the same memory location.\n",
        "   - Efficient Hashing and Dictionary Lookups: Strings are commonly used as keys in dictionaries. Dictionaries rely on hash values for rapid key lookups. Because strings are immutable, their hash values are guaranteed to remain constant throughout their lifetime. This allows Python to cache these hash values, significantly improving dictionary performance.\n",
        " - Thread Safety in Concurrent Environments: In multithreaded applications, where multiple threads execute concurrently, immutability provides inherent thread safety. Multiple threads can safely access and use the same string without the risk of data corruption due to race conditions. This eliminates the need for complex synchronization mechanisms like locks, simplifying concurrent programming.\n",
        "- Simplified Reasoning and Debugging: Immutability enhances code clarity and reduces the potential for subtle bugs. When working with strings, developers can rely on the fact that a string's value will remain consistent unless explicitly reassigned. This simplifies code analysis and debugging, making it easier to track data flow and identify the source of errors.\n",
        "- Support for Data Integrity and Security: Immutability contributes to data integrity by preventing accidental or unintended modifications. This is particularly relevant in security-sensitive contexts, such as storing cryptographic keys or passwords. The immutability of strings ensures that these sensitive values cannot be altered in place, reducing the risk of security vulnerabilities."
      ],
      "metadata": {
        "id": "BpvQjmI0rG2F"
      }
    },
    {
      "cell_type": "code",
      "source": [
        "# Exmple\n",
        "str1 = \"python\"\n",
        "str2 = \"python\"\n",
        "\n",
        "print(id(str1))  # Output: A memory address\n",
        "print(id(str2))  # Output: The *same* memory address as str1\n",
        "\"\"\"This demonstrates that both str1 and str2 point to the same underlying string object in memory,\n",
        "a direct consequence of string immutability. If strings were mutable, this optimization would not be possible.\"\"\""
      ],
      "metadata": {
        "colab": {
          "base_uri": "https://localhost:8080/",
          "height": 87
        },
        "id": "fecH4QhJq4ny",
        "outputId": "673074c3-b40c-41c8-8068-1a9d92c41a26"
      },
      "execution_count": 3,
      "outputs": [
        {
          "output_type": "stream",
          "name": "stdout",
          "text": [
            "139847695905392\n",
            "139847695905392\n"
          ]
        },
        {
          "output_type": "execute_result",
          "data": {
            "text/plain": [
              "'This demonstrates that both str1 and str2 point to the same underlying string object in memory, \\na direct consequence of string immutability. If strings were mutable, this optimization would not be possible.'"
            ],
            "application/vnd.google.colaboratory.intrinsic+json": {
              "type": "string"
            }
          },
          "metadata": {},
          "execution_count": 3
        }
      ]
    },
    {
      "cell_type": "markdown",
      "source": [
        "## 11. What advantages do dictionaries offer over lists for certain tasks?\n",
        "- Dictionaries offer significant advantages over lists for specific tasks, primarily when dealing with data that has a natural key-value relationship or when efficient lookups are crucial. Here's a breakdown:\n",
        " - Efficient Data Retrieval by Key: The most significant advantage of dictionaries is their ability to retrieve values quickly using keys. In a list, you need to know the index of an element to access it, which can be inefficient for large lists or when you don't know the index. Dictionaries, using their internal hash table implementation, allow you to access values directly using their associated keys, providing near-constant time (O(1)) lookups on average.\n",
        "\n",
        " - Analogy: Imagine a library. A list is like having all the books arranged in the order they were acquired. To find a specific book, you might have to search through many books. A dictionary is like having a card catalog. You look up the book by its title (the key) and it tells you exactly where to find it (the value).\n",
        "  - Meaningful Data Association: Dictionaries allow you to associate data with meaningful labels (keys), making your code more readable and understandable. Instead of relying on numerical indices, you can use descriptive keys that clearly indicate the purpose of the associated values.\n",
        " - Flexibility and Organization: Dictionaries offer a flexible way to organize and structure data, especially when dealing with complex or hierarchical data. You can nest dictionaries within dictionaries to create complex data structures that mirror real-world relationships.\n",
        "\n",
        "  - Efficient Membership Testing by Key: Checking if a key exists in a dictionary is very fast (again, near-constant time). This is much more efficient than checking if an element exists in a list, which requires iterating through the list until the element is found (linear time complexity).\n"
      ],
      "metadata": {
        "id": "f28IiwLgskmi"
      }
    },
    {
      "cell_type": "code",
      "source": [
        "# Example\n",
        "# Using a list (less clear)\n",
        "person_list = [\"Alice\", 30, \"123 Main St\"]\n",
        "print(person_list[0])  # What does index 0 represent?\n",
        "\n",
        "# Using a dictionary (much clearer)\n",
        "person_dict = {\"name\": \"Alice\", \"age\": 30, \"address\": \"123 Main St\"}\n",
        "print(person_dict[\"name\"])  # Clearly accessing the name"
      ],
      "metadata": {
        "colab": {
          "base_uri": "https://localhost:8080/"
        },
        "id": "KMIzFNyisfez",
        "outputId": "3adb1432-04ad-44c6-c5dd-3af2f993f6e0"
      },
      "execution_count": 4,
      "outputs": [
        {
          "output_type": "stream",
          "name": "stdout",
          "text": [
            "Alice\n",
            "Alice\n"
          ]
        }
      ]
    },
    {
      "cell_type": "markdown",
      "source": [
        "## 12. Describe a scenario where using a tuple would be preferable over a list.\n",
        "- A prime scenario where using a tuple is preferable over a list is when you need to represent a record or a collection of related data that should not be modified after creation. This often arises in situations involving data integrity, data passing, and representing fixed entities.\n",
        "\n",
        "- Here are a few specific examples:\n",
        "\n",
        "  - Representing Coordinates: Imagine you're working with a program that handles geometric shapes. You need to represent points in a 2D or 3D space. Using tuples for this purpose is ideal:"
      ],
      "metadata": {
        "id": "bwMlilwkvlML"
      }
    },
    {
      "cell_type": "code",
      "source": [
        "# example\n",
        "point = (10, 20)  # Represents a point at x=10, y=20\n",
        "point3d = (5, 12, 8) # Represents a point at x=5, y=12, z=8\n",
        "\n",
        "# Trying to modify a coordinate would result in an error\n",
        "# point[0] = 15  # TypeError: 'tuple' object does not support item assignment\n",
        "\"\"\"Because coordinates should typically remain constant for a given point, using a tuple prevents accidental modifications that could lead to errors in your calculations.\"\"\"\n",
        "\n"
      ],
      "metadata": {
        "colab": {
          "base_uri": "https://localhost:8080/",
          "height": 52
        },
        "id": "E1caTAAEvn2T",
        "outputId": "384d8c3c-dbac-47ae-a5de-3e2e1baa3e12"
      },
      "execution_count": 6,
      "outputs": [
        {
          "output_type": "execute_result",
          "data": {
            "text/plain": [
              "'Because coordinates should typically remain constant for a given point, using a tuple prevents accidental modifications that could lead to errors in your calculations.'"
            ],
            "application/vnd.google.colaboratory.intrinsic+json": {
              "type": "string"
            }
          },
          "metadata": {},
          "execution_count": 6
        }
      ]
    },
    {
      "cell_type": "markdown",
      "source": [
        "  -  Returning Multiple Values from a Function: Functions in Python can return multiple values using tuples. This is a clean and efficient way to bundle related pieces of information:\n",
        "  "
      ],
      "metadata": {
        "id": "LxYu-9UwwvVu"
      }
    },
    {
      "cell_type": "code",
      "source": [
        "#example\n",
        "def get_name_and_age():\n",
        "    name = \"Alice\"\n",
        "    age = 30\n",
        "    return (name, age)  # Returns a tuple\n",
        "\n",
        "person_info = get_name_and_age()\n",
        "name, age = person_info  # Tuple unpacking\n",
        "print(f\"Name: {name}, Age: {age}\")\n",
        "\"\"\"Here, the tuple returned by the function represents a single unit of related data (name and age). It's important that this data remains consistent as a unit.\"\"\""
      ],
      "metadata": {
        "colab": {
          "base_uri": "https://localhost:8080/",
          "height": 70
        },
        "id": "igxfkh-mvo-M",
        "outputId": "e3ad7d5c-f3f5-4fcb-b1e9-5df3f1e7ece9"
      },
      "execution_count": 7,
      "outputs": [
        {
          "output_type": "stream",
          "name": "stdout",
          "text": [
            "Name: Alice, Age: 30\n"
          ]
        },
        {
          "output_type": "execute_result",
          "data": {
            "text/plain": [
              "\"Here, the tuple returned by the function represents a single unit of related data (name and age). It's important that this data remains consistent as a unit.\""
            ],
            "application/vnd.google.colaboratory.intrinsic+json": {
              "type": "string"
            }
          },
          "metadata": {},
          "execution_count": 7
        }
      ]
    },
    {
      "cell_type": "markdown",
      "source": [
        "  - Database Records: When fetching data from a database, the rows are often represented as tuples. This ensures that the retrieved data remains unchanged as it's processed by your application.\n",
        "\n",
        "  - Configuration Settings: If you have a set of configuration parameters that should not be altered during program execution, storing them in a tuple is a good practice:"
      ],
      "metadata": {
        "id": "hrGOXTlPxA2q"
      }
    },
    {
      "cell_type": "code",
      "source": [
        "config = (\"localhost\", 8080, \"my_database\") # host, port, database name"
      ],
      "metadata": {
        "id": "E-wsb08SvpcR"
      },
      "execution_count": 8,
      "outputs": []
    },
    {
      "cell_type": "markdown",
      "source": [
        "  - Using as Dictionary Keys: As mentioned previously, tuples can be used as keys in dictionaries, whereas lists cannot. This is because dictionary keys must be immutable. This allows you to create more complex mappings, such as mapping coordinates to values:"
      ],
      "metadata": {
        "id": "hq0oCqzDxOun"
      }
    },
    {
      "cell_type": "code",
      "source": [
        "location_data = {\n",
        "    (10, 20): \"Location A\",\n",
        "    (30, 40): \"Location B\"\n",
        "}"
      ],
      "metadata": {
        "id": "a5wVJaj4xH55"
      },
      "execution_count": 9,
      "outputs": []
    },
    {
      "cell_type": "markdown",
      "source": [
        "- in each of these scenarios, the key factor is that the data being represented should remain constant. Using a tuple enforces this immutability, preventing accidental modifications and enhancing data integrity. If you anticipate needing to modify the collection of items, then a list would be the appropriate choice"
      ],
      "metadata": {
        "id": "pV5e7xSsxg2Z"
      }
    },
    {
      "cell_type": "markdown",
      "source": [
        "## 13. How do sets handle duplicate values in Python?\n",
        "- Python sets are designed to store only unique elements. This means that if you try to add a duplicate value to a set, it will simply be ignored. The set will only store one instance of that value.\n",
        "- Here's how it works under the hood:\n",
        "\n",
        "  - Hashing: When you add an element to a set, Python calculates the hash value of that element using a hash function. This hash value is an integer that serves as an index for storing the element in the set's internal hash table.\n",
        "\n",
        "  - Duplicate Check: Before actually storing the element, Python checks if an element with the same hash value already exists in the set.\n",
        "\n",
        "  - Handling Duplicates:\n",
        "\n",
        "   - If an element with the same hash value is not found, the new element is added to the set at the appropriate index in the hash table.\n",
        "If an element with the same hash value is found, Python performs an equality check to ensure that the two elements are truly identical.\n",
        "   - If they are identical (meaning they are duplicates), the new element is not added to the set. The set remains unchanged."
      ],
      "metadata": {
        "id": "uMQ3JZfV1yBW"
      }
    },
    {
      "cell_type": "code",
      "source": [
        "# Example\n",
        "my_set = {1, 2, 3}\n",
        "\n",
        "my_set.add(2)  # Trying to add a duplicate value\n",
        "print(my_set)  # Output: {1, 2, 3} (the set remains unchanged)\n",
        "\n",
        "my_set.add(4)  # Adding a new, unique value\n",
        "print(my_set)  # Output: {1, 2, 3, 4}"
      ],
      "metadata": {
        "colab": {
          "base_uri": "https://localhost:8080/"
        },
        "id": "aD-B62NJxSK7",
        "outputId": "dfe63eda-2ccc-4e4c-bb1c-8211aeee4639"
      },
      "execution_count": 10,
      "outputs": [
        {
          "output_type": "stream",
          "name": "stdout",
          "text": [
            "{1, 2, 3}\n",
            "{1, 2, 3, 4}\n"
          ]
        }
      ]
    },
    {
      "cell_type": "markdown",
      "source": [
        "## 14. How does the “in” keyword work differently for lists and dictionaries\n",
        "- The in keyword in Python is used for membership testing—checking if a value is present within a collection. However, it works differently for lists and dictionaries due to their underlying data structures:\n",
        "- For lists, the in keyword performs a linear search. It iterates through the list, comparing each element to the target value until a match is found or the end of the list is reached.\n",
        " - Time Complexity: The time complexity for in with lists is O(n) in the worst case, where n is the number of elements in the list. This means that as the list grows larger, the time it takes to check for membership can increase proportionally.\n",
        "- For dictionaries, the in keyword checks for the presence of a key in the dictionary. Because dictionaries are implemented using hash tables, this check is very efficient.\n",
        "- Time Complexity: The average-case time complexity for in with dictionaries is O(1) (constant time). This means that the time it takes to check for a key is generally independent of the size of the dictionary."
      ],
      "metadata": {
        "id": "Dm2f0Yiu3MQy"
      }
    },
    {
      "cell_type": "code",
      "source": [
        "# Example\n",
        "my_list = [1, 2, 3, 4, 5]\n",
        "my_dict = {\"a\": 1, \"b\": 2, \"c\": 3}\n",
        "\n",
        "# List check\n",
        "print(3 in my_list)      # Output: True (iterates and finds 3)\n",
        "print(6 in my_list)      # Output: False (iterates to the end, no match)\n",
        "\n",
        "# Dictionary check\n",
        "print(\"b\" in my_dict)    # Output: True (checks for key \"b\")\n",
        "print(2 in my_dict)      # Output: False (checks for key 2, not value 2)\n",
        "print(my_dict.values()) # Output: dict_values([1, 2, 3])\n",
        "print(2 in my_dict.values()) # Output: True (checks for value 2)"
      ],
      "metadata": {
        "colab": {
          "base_uri": "https://localhost:8080/"
        },
        "id": "ZGRW981a23t-",
        "outputId": "e65f49ac-c256-41a1-d6ae-7b0009008bdd"
      },
      "execution_count": 11,
      "outputs": [
        {
          "output_type": "stream",
          "name": "stdout",
          "text": [
            "True\n",
            "False\n",
            "True\n",
            "False\n",
            "dict_values([1, 2, 3])\n",
            "True\n"
          ]
        }
      ]
    },
    {
      "cell_type": "markdown",
      "source": [
        "## 15.  Can you modify the elements of a tuple? Explain why or why not?\n",
        "- No, you cannot directly modify the elements of a tuple in Python. This is because tuples are immutable.\n",
        "- Immutability Defined: In programming, \"immutable\" means that once an object is created, its internal state cannot be changed. For tuples, this means you can't:\n",
        "\n",
        "- Change the value of an existing element.\n",
        "- Add new elements.\n",
        "- Remove existing elements.\n",
        "### Why Immutability Matters: This design choice has several important benefits, as we've discussed before:\n",
        "\n",
        "- Data Integrity: It ensures that data represented by a tuple remains constant, preventing accidental modifications.\n",
        "- Performance: It allows for optimizations like memory sharing and efficient hashing.\n",
        "- Thread Safety: It makes tuples safe to use in multithreaded environments.\n",
        "- Use as Dictionary Keys: It allows tuples to be used as keys in dictionaries.\n",
        "### 15. Can you modify the elements of a tuple? Explain why or why not?\n",
        " - No, you cannot directly modify the elements of a tuple in Python. This is because tuples are immutable.\n",
        " - Why Immutability Matters: This design choice has several important benefits, as we've discussed before:\n",
        "\n",
        "  - Data Integrity: It ensures that data represented by a tuple remains constant, preventing accidental modifications.\n",
        "  - Performance: It allows for optimizations like memory sharing and efficient hashing.\n",
        "  - Thread Safety: It makes tuples safe to use in multithreaded environments.\n",
        "  - Use as Dictionary Keys: It allows tuples to be used as keys in dictionaries.\n",
        "- What Happens When You Try to Modify a Tuple? If you attempt to modify a tuple, you'll get a TypeError:"
      ],
      "metadata": {
        "id": "Tlbn2V1VTY0X"
      }
    },
    {
      "cell_type": "code",
      "source": [
        "#Example\n",
        "my_tuple = (1, 2, 3)\n",
        "my_tuple[0] = 10  # This will raise a TypeError: 'tuple' object does not support item assignment"
      ],
      "metadata": {
        "colab": {
          "base_uri": "https://localhost:8080/",
          "height": 176
        },
        "id": "dGM2yUM2TP8s",
        "outputId": "57b67f13-9e00-4f44-c5c9-9d228fd43de4"
      },
      "execution_count": 12,
      "outputs": [
        {
          "output_type": "error",
          "ename": "TypeError",
          "evalue": "'tuple' object does not support item assignment",
          "traceback": [
            "\u001b[0;31m---------------------------------------------------------------------------\u001b[0m",
            "\u001b[0;31mTypeError\u001b[0m                                 Traceback (most recent call last)",
            "\u001b[0;32m<ipython-input-12-5a895a766304>\u001b[0m in \u001b[0;36m<cell line: 3>\u001b[0;34m()\u001b[0m\n\u001b[1;32m      1\u001b[0m \u001b[0;31m#Example\u001b[0m\u001b[0;34m\u001b[0m\u001b[0;34m\u001b[0m\u001b[0m\n\u001b[1;32m      2\u001b[0m \u001b[0mmy_tuple\u001b[0m \u001b[0;34m=\u001b[0m \u001b[0;34m(\u001b[0m\u001b[0;36m1\u001b[0m\u001b[0;34m,\u001b[0m \u001b[0;36m2\u001b[0m\u001b[0;34m,\u001b[0m \u001b[0;36m3\u001b[0m\u001b[0;34m)\u001b[0m\u001b[0;34m\u001b[0m\u001b[0;34m\u001b[0m\u001b[0m\n\u001b[0;32m----> 3\u001b[0;31m \u001b[0mmy_tuple\u001b[0m\u001b[0;34m[\u001b[0m\u001b[0;36m0\u001b[0m\u001b[0;34m]\u001b[0m \u001b[0;34m=\u001b[0m \u001b[0;36m10\u001b[0m  \u001b[0;31m# This will raise a TypeError: 'tuple' object does not support item assignment\u001b[0m\u001b[0;34m\u001b[0m\u001b[0;34m\u001b[0m\u001b[0m\n\u001b[0m",
            "\u001b[0;31mTypeError\u001b[0m: 'tuple' object does not support item assignment"
          ]
        }
      ]
    },
    {
      "cell_type": "markdown",
      "source": [
        "- Workarounds (Creating New Tuples): While you can't modify a tuple in place, you can create a new tuple based on an existing one. Here are some common approaches:\n",
        "\n",
        "  - Concatenation: You can combine tuples using the + operator:"
      ],
      "metadata": {
        "id": "g32yNKsHcMaN"
      }
    },
    {
      "cell_type": "code",
      "source": [
        "tuple1 = (1, 2)\n",
        "tuple2 = (3, 4)\n",
        "new_tuple = tuple1 + tuple2\n",
        "print(new_tuple)  # Output: (1, 2, 3, 4)"
      ],
      "metadata": {
        "colab": {
          "base_uri": "https://localhost:8080/"
        },
        "id": "BTbdaOlVcFdV",
        "outputId": "1d7ec128-56ae-40bb-a7f5-1f8a26fd38c3"
      },
      "execution_count": 13,
      "outputs": [
        {
          "output_type": "stream",
          "name": "stdout",
          "text": [
            "(1, 2, 3, 4)\n"
          ]
        }
      ]
    },
    {
      "cell_type": "markdown",
      "source": [
        " - Slicing and Concatenation: You can use slicing to extract parts of a tuple and then combine them with other values to create a new tuple:"
      ],
      "metadata": {
        "id": "n8-03IdicX-t"
      }
    },
    {
      "cell_type": "code",
      "source": [
        "my_tuple = (1, 2, 3)\n",
        "new_tuple = my_tuple[:1] + (10,) + my_tuple[2:] # Creates a new tuple with 10 at index 1\n",
        "print(new_tuple)  # Output: (1, 10, 3)"
      ],
      "metadata": {
        "colab": {
          "base_uri": "https://localhost:8080/"
        },
        "id": "O4fQnrL-cSSO",
        "outputId": "57ce2e8c-e551-41fc-e219-4f94450e3863"
      },
      "execution_count": 14,
      "outputs": [
        {
          "output_type": "stream",
          "name": "stdout",
          "text": [
            "(1, 10, 3)\n"
          ]
        }
      ]
    },
    {
      "cell_type": "markdown",
      "source": [
        " - Conversion to List and Back: You can convert the tuple to a list (which is mutable), modify the list, and then convert it back to a tuple:\n",
        ""
      ],
      "metadata": {
        "id": "D62bt_mVcm4x"
      }
    },
    {
      "cell_type": "code",
      "source": [
        "my_tuple = (1, 2, 3)\n",
        "my_list = list(my_tuple)\n",
        "my_list[1] = 10\n",
        "new_tuple = tuple(my_list)\n",
        "print(new_tuple)  # Output: (1, 10, 3)"
      ],
      "metadata": {
        "colab": {
          "base_uri": "https://localhost:8080/"
        },
        "id": "ttGMDRyJccEx",
        "outputId": "b4248d85-4efd-47dc-a4da-748a1fcade86"
      },
      "execution_count": 16,
      "outputs": [
        {
          "output_type": "stream",
          "name": "stdout",
          "text": [
            "(1, 10, 3)\n"
          ]
        }
      ]
    },
    {
      "cell_type": "markdown",
      "source": [
        "  - It's crucial to understand that these workarounds create entirely new tuple objects. The original tuple remains unchanged"
      ],
      "metadata": {
        "id": "Fm4y9aGDc7gK"
      }
    },
    {
      "cell_type": "markdown",
      "source": [
        "## 16.  What is a nested dictionary, and give an example of its use case?\n",
        "- A nested dictionary in Python is a dictionary where the values associated with some or all of the keys are themselves dictionaries. This allows you to create hierarchical data structures, representing relationships and categories within your data. Think of it like a dictionary of dictionaries.\n",
        "- Example - we want to store information about students and their courses. A nested dictionary would be a perfect way to organize this:"
      ],
      "metadata": {
        "id": "CscAfDP0dVF0"
      }
    },
    {
      "cell_type": "code",
      "source": [
        "student_courses = {\n",
        "    \"Alice\": {\n",
        "        \"courses\": {\n",
        "            \"Math\": \"A\",\n",
        "            \"Science\": \"B+\",\n",
        "            \"English\": \"A-\"\n",
        "        },\n",
        "        \"major\": \"Biology\"\n",
        "    },\n",
        "    \"Bob\": {\n",
        "        \"courses\": {\n",
        "            \"History\": \"B\",\n",
        "            \"Literature\": \"C+\",\n",
        "            \"Art\": \"A\"\n",
        "        },\n",
        "        \"major\": \"History\"\n",
        "    }\n",
        "}\n",
        "print(student_courses)"
      ],
      "metadata": {
        "colab": {
          "base_uri": "https://localhost:8080/"
        },
        "id": "Y-8OZt8hcruE",
        "outputId": "d8e823a3-9c87-421c-ffaf-a9ff484b6f32"
      },
      "execution_count": 22,
      "outputs": [
        {
          "output_type": "stream",
          "name": "stdout",
          "text": [
            "{'Alice': {'courses': {'Math': 'A', 'Science': 'B+', 'English': 'A-'}, 'major': 'Biology'}, 'Bob': {'courses': {'History': 'B', 'Literature': 'C+', 'Art': 'A'}, 'major': 'History'}}\n"
          ]
        }
      ]
    },
    {
      "cell_type": "markdown",
      "source": [
        " - A nested dictionary in Python is a dictionary where the values associated with some or all of the keys are themselves dictionaries. This allows you to create hierarchical data structures, representing relationships and categories within your data. Think of it like a dictionary of dictionaries.\n",
        "\n",
        "Example:\n",
        "\n",
        "Let's imagine we want to store information about students and their courses. A nested dictionary would be a perfect way to organize this:\n",
        "\n",
        "Python\n",
        "\n",
        "student_courses = {\n",
        "    \"Alice\": {\n",
        "        \"courses\": {\n",
        "            \"Math\": \"A\",\n",
        "            \"Science\": \"B+\",\n",
        "            \"English\": \"A-\"\n",
        "        },\n",
        "        \"major\": \"Biology\"\n",
        "    },\n",
        "    \"Bob\": {\n",
        "        \"courses\": {\n",
        "            \"History\": \"B\",\n",
        "            \"Literature\": \"C+\",\n",
        "            \"Art\": \"A\"\n",
        "        },\n",
        "        \"major\": \"History\"\n",
        "    }\n",
        "}\n",
        "In this example:\n",
        "\n",
        "- student_courses is the main dictionary.\n",
        "- \"Alice\" and \"Bob\" are keys in the main dictionary, representing individual students.\n",
        "- The values associated with \"Alice\" and \"Bob\" are also dictionaries. - These inner dictionaries contain further information about each student (their courses and major).\n",
        "- The \"courses\" entries within each student's information are themselves dictionaries, mapping course names to grades.\n",
        "### Accessing Data:\n",
        "\n",
        "- You access elements in a nested dictionary by chaining keys together using square brackets []"
      ],
      "metadata": {
        "id": "BE0CDQ5Xeoeh"
      }
    },
    {
      "cell_type": "code",
      "source": [
        "# Get Alice's Science grade\n",
        "alice_science_grade = student_courses[\"Alice\"][\"courses\"][\"Science\"]\n",
        "print(alice_science_grade)  # Output: B+\n",
        "\n",
        "# Get Bob's major\n",
        "bob_major = student_courses[\"Bob\"][\"major\"]\n",
        "print(bob_major)  # Output: History\n",
        "\n",
        "# Get all of Alice's courses and grades:\n",
        "alice_courses = student_courses[\"Alice\"][\"courses\"]\n",
        "print(alice_courses) # Output: {'Math': 'A', 'Science': 'B+', 'English': 'A-'}"
      ],
      "metadata": {
        "colab": {
          "base_uri": "https://localhost:8080/"
        },
        "id": "OnhzhKbveSuq",
        "outputId": "554742ee-397d-425c-92b0-25a45af7785d"
      },
      "execution_count": 23,
      "outputs": [
        {
          "output_type": "stream",
          "name": "stdout",
          "text": [
            "B+\n",
            "History\n",
            "{'Math': 'A', 'Science': 'B+', 'English': 'A-'}\n"
          ]
        }
      ]
    },
    {
      "cell_type": "markdown",
      "source": [
        "### Use Cases:\n",
        "\n",
        "- Nested dictionaries are incredibly useful for representing structured data in various scenarios:\n",
        "\n",
        "- Representing Complex Objects: Imagine modeling a car. The car has an engine, which has attributes like horsepower and cylinders. You could represent this with a nested dictionary:"
      ],
      "metadata": {
        "id": "FsQwGDtZfBXH"
      }
    },
    {
      "cell_type": "code",
      "source": [
        "car = {\n",
        "    \"model\": \"Sedan\",\n",
        "    \"engine\": {\n",
        "        \"horsepower\": 200,\n",
        "        \"cylinders\": 4\n",
        "    }\n",
        "}\n",
        "print(car)"
      ],
      "metadata": {
        "colab": {
          "base_uri": "https://localhost:8080/"
        },
        "id": "Siem10Wie9OZ",
        "outputId": "0821bae0-09d5-49ce-b59c-0d79226523c2"
      },
      "execution_count": 25,
      "outputs": [
        {
          "output_type": "stream",
          "name": "stdout",
          "text": [
            "{'model': 'Sedan', 'engine': {'horsepower': 200, 'cylinders': 4}}\n"
          ]
        }
      ]
    },
    {
      "cell_type": "markdown",
      "source": [
        " - Working with JSON Data: JSON (JavaScript Object Notation), a common data format for APIs and web services, is directly translatable to nested dictionaries in Python.\n",
        "\n",
        " - Storing Hierarchical Data: Organizing data with parent-child relationships, such as a company's organizational structure (departments, employees within departments), is well-suited for nested dictionaries.\n",
        "\n",
        "- Configuration Files: Application settings that are categorized can be neatly stored using nested dictionaries.\n",
        "### 17. Describe the time complexity of accessing elements in a dictionary.\n",
        " - The time complexity of accessing elements in a Python dictionary is, on average, O(1), which is known as constant time. However, it's important to understand that this is the average-case complexity.\n",
        " #### Average Case: O(1) (Constant Time)\n",
        "\n",
        "   - Dictionaries in Python are implemented using hash tables. When you access an element using its key (e.g., my_dict[\"key\"]), Python calculates the hash of the key. This hash is then used to quickly locate the corresponding value in the underlying hash table.\n",
        "    - Ideally, each key maps to a unique location in the hash table, allowing for direct access in constant time, regardless of the dictionary's size.\n",
        "#### Worst Case: O(n) (Linear Time)\n",
        "\n",
        "    - The worst-case scenario occurs when there are many hash collisions. A hash collision happens when two or more different keys produce the same hash value. In such cases, Python needs to use a different strategy to resolve the collision, often involving searching through a list of items that have collided.\n",
        "    - In the absolute worst case, all keys could collide, effectively turning the dictionary into a linked list. In this extreme scenario, accessing an element would require traversing the entire list, resulting in linear time complexity, O(n), where n is the number of items in the dictionary.\n",
        "#### Let's say :\n",
        "- Imagine a library with a very efficient card catalog. To find a book, you look up its title in the catalog, which instantly tells you the book's location. This is like the average case of a dictionary lookup (O(1)).\n",
        "\n",
        "- Now imagine a poorly organized library where many books have the same catalog entry. To find your book, you might have to search through a large pile of books with the same entry. This is like the worst case of a dictionary lookup (O(n)).\n",
        "### 18.  In what situations are lists preferred over dictionaries?.\n",
        "- Use lists when the order of items is important, when you need to access items by their position, when you need to store duplicates, or when you have a very simple collection. Use dictionaries when you need to look up values quickly using keys, when you want to associate data with meaningful labels, or when you have complex, structured data.\n",
        "### 19. Why are dictionaries considered unordered, and how does that affect data retrieval?\n",
        "- Before Python 3.7, dictionaries were truly unordered; the order of items wasn't guaranteed. This was because they used a hash table for fast lookups, which doesn't inherently store items in any particular sequence. This meant you couldn't rely on the order of items when iterating through a dictionary.\n",
        "\n",
        "- From Python 3.7 onwards, dictionaries remember the order in which items were inserted. So, if you iterate through a dictionary, you'll get the items back in the same order you put them in.\n",
        "\n",
        "- However, even though dictionaries now preserve insertion order, their main strength is still fast lookups using keys, not maintaining a specific order. If you need a data structure where order is crucial, lists are still the better choice. Dictionaries are optimized for quickly finding values by key.\n",
        "### 20.  Explain the difference between a list and a dictionary in terms of data retrieval.\n",
        " #### Lists:\n",
        "\n",
        "- Retrieval by Index: You retrieve elements from a list using their numerical position (index), starting from 0. For example, my_list[0] gets the first element.\n",
        "- Sequential Search (Linear Time): When you search for a specific value within a list (e.g., using if value in my_list:), Python has to check each element one by one until it finds a match or reaches the end of the list. This is called a linear search and has a time complexity of O(n), where 'n' is the number of items in the list. This means that the time it takes to find something increases directly with the size of the list.\n",
        "#### Dictionaries:\n",
        "\n",
        "- Retrieval by Key: You retrieve elements from a dictionary using their unique key. For example, my_dict[\"key\"] gets the value associated with that key.\n",
        "- Hash Table Lookup (Near Constant Time): Dictionaries use a \"hash table\" behind the scenes. This allows Python to jump almost directly to the location of a key (and its associated value) without having to search through all the other items. This gives dictionaries an average time complexity of O(1) for lookups, which is called constant time. This means that the time it takes to find something is almost the same regardless of how many items are in the dictionary."
      ],
      "metadata": {
        "id": "aUrVBX8DfPoD"
      }
    },
    {
      "cell_type": "markdown",
      "source": [
        "# Practical Questions"
      ],
      "metadata": {
        "id": "lG_VCYnpuQ74"
      }
    },
    {
      "cell_type": "code",
      "source": [
        "# 1.  Write a code to create a string with your name and print it.\n",
        "name = input(\"Enter your name = \")\n",
        "print(f\"My name is {name}!\")"
      ],
      "metadata": {
        "colab": {
          "base_uri": "https://localhost:8080/"
        },
        "id": "Cja4UfdLfLmb",
        "outputId": "3779c46e-c206-4475-9cc8-5c29af73d1d2"
      },
      "execution_count": 2,
      "outputs": [
        {
          "output_type": "stream",
          "name": "stdout",
          "text": [
            "Enter your name = Sukruth\n",
            "My name is Sukruth!\n"
          ]
        }
      ]
    },
    {
      "cell_type": "code",
      "source": [
        "print(f\"My name is {input('Enter your name = ')}! \")"
      ],
      "metadata": {
        "colab": {
          "base_uri": "https://localhost:8080/"
        },
        "id": "ofkEIrVpyuoe",
        "outputId": "7ef5f7fe-6c5b-458f-ef6b-aa3ecbbd7b09"
      },
      "execution_count": 6,
      "outputs": [
        {
          "output_type": "stream",
          "name": "stdout",
          "text": [
            "Enter your name = Sukruth\n",
            "My name is Sukruth! \n"
          ]
        }
      ]
    },
    {
      "cell_type": "code",
      "source": [
        "# 2. Write a code to find the length of the string \"Hello World\"\n",
        "print(len(\"Hello World\"))"
      ],
      "metadata": {
        "colab": {
          "base_uri": "https://localhost:8080/"
        },
        "id": "v9CpaoJvzG5E",
        "outputId": "8a6088d6-7206-45a1-955a-b719757c26f1"
      },
      "execution_count": 7,
      "outputs": [
        {
          "output_type": "stream",
          "name": "stdout",
          "text": [
            "11\n"
          ]
        }
      ]
    },
    {
      "cell_type": "code",
      "source": [
        "# 3. Write a code to slice the first 3 characters from the string \"Python Programming\".\n",
        "str = \"Python Programming\"\n",
        "print(\"The first 3 characters are\",str[:3])\n"
      ],
      "metadata": {
        "colab": {
          "base_uri": "https://localhost:8080/"
        },
        "id": "UD8a7UO_0Krf",
        "outputId": "08233e3d-b915-415f-f4f9-2a835968ca02"
      },
      "execution_count": 10,
      "outputs": [
        {
          "output_type": "stream",
          "name": "stdout",
          "text": [
            "The first 3 characters are Pyt\n"
          ]
        }
      ]
    },
    {
      "cell_type": "code",
      "source": [
        "# 4. Write a code to convert the string \"hello\" to uppercase.\n",
        "str = \"hello\"\n",
        "print(str.upper())"
      ],
      "metadata": {
        "colab": {
          "base_uri": "https://localhost:8080/"
        },
        "id": "1sc3QBHW2Egj",
        "outputId": "e2b0b200-93e1-416d-fbb8-32f27f72e216"
      },
      "execution_count": 12,
      "outputs": [
        {
          "output_type": "stream",
          "name": "stdout",
          "text": [
            "HELLO\n"
          ]
        }
      ]
    },
    {
      "cell_type": "code",
      "source": [
        "# 5.  Write a code to replace the word \"apple\" with \"orange\" in the string \"I like apple\".\n",
        "str = \"I like apple\"\n",
        "print(str)\n",
        "print(str.replace(\"apple\",\"orange\"))\n"
      ],
      "metadata": {
        "colab": {
          "base_uri": "https://localhost:8080/"
        },
        "id": "hxaBKUbH2gDy",
        "outputId": "b7d2efb8-9b5b-4efb-d947-47a12893cc96"
      },
      "execution_count": 15,
      "outputs": [
        {
          "output_type": "stream",
          "name": "stdout",
          "text": [
            "I like apple\n",
            "I like orange\n"
          ]
        }
      ]
    },
    {
      "cell_type": "code",
      "source": [
        "# 6.  Write a code to create a list with numbers 1 to 5 and print it\n",
        "lis1 = []\n",
        "for i in range(1,6):\n",
        "  lis1.append(i)\n",
        "print(lis1)#the list of 1 to 5\n",
        "for ele in lis1:\n",
        "  print(ele)# printing the elemets of list.\n",
        "\n",
        "\n"
      ],
      "metadata": {
        "colab": {
          "base_uri": "https://localhost:8080/"
        },
        "id": "rI_85zyv3BNe",
        "outputId": "b5f03b15-bf10-4896-f0e9-9866f33548f2"
      },
      "execution_count": 21,
      "outputs": [
        {
          "output_type": "stream",
          "name": "stdout",
          "text": [
            "[1, 2, 3, 4, 5]\n",
            "1\n",
            "2\n",
            "3\n",
            "4\n",
            "5\n"
          ]
        }
      ]
    },
    {
      "cell_type": "code",
      "source": [
        "# 7.  Write a code to append the number 10 to the list [1, 2, 3, 4].\n",
        "lis2 = [1,2,3,4]\n",
        "lis2.append(10)#.append() is a list method to append elements at the end of the list.\n",
        "print(lis2)\n"
      ],
      "metadata": {
        "colab": {
          "base_uri": "https://localhost:8080/"
        },
        "id": "cCVuAgui2z0F",
        "outputId": "22edcdf2-3c8f-4859-f4a3-1db7578ae736"
      },
      "execution_count": 22,
      "outputs": [
        {
          "output_type": "stream",
          "name": "stdout",
          "text": [
            "[1, 2, 3, 4, 10]\n"
          ]
        }
      ]
    },
    {
      "cell_type": "code",
      "source": [
        "# 8.  Write a code to remove the number 3 from the list [1, 2, 3, 4, 5].\n",
        "lis3 = [1,2,3,4,5]\n",
        "lis3.remove(3)#.remove() is a list method to remove particular element from list.\n",
        "print(lis3)"
      ],
      "metadata": {
        "colab": {
          "base_uri": "https://localhost:8080/"
        },
        "id": "09i7DvPD4NC_",
        "outputId": "26e3f57f-b1e7-4386-e5d4-ac0b93542bd8"
      },
      "execution_count": 23,
      "outputs": [
        {
          "output_type": "stream",
          "name": "stdout",
          "text": [
            "[1, 2, 4, 5]\n"
          ]
        }
      ]
    },
    {
      "cell_type": "code",
      "source": [
        "# 9.  Write a code to access the second element in the list ['a', 'b', 'c', 'd'].\n",
        "lis4 = ['a', 'b', 'c', 'd']\n",
        "print(\"The second element is\",lis4[1])"
      ],
      "metadata": {
        "colab": {
          "base_uri": "https://localhost:8080/"
        },
        "id": "ZW1EFjNU477-",
        "outputId": "9129850f-ea8b-40e4-ecfb-8f1caceac74c"
      },
      "execution_count": 24,
      "outputs": [
        {
          "output_type": "stream",
          "name": "stdout",
          "text": [
            "The second element is b\n"
          ]
        }
      ]
    },
    {
      "cell_type": "code",
      "source": [
        "# 10.  Write a code to reverse the list [10, 20, 30, 40, 50].\n",
        "lis5 = [10, 20, 30, 40, 50]\n",
        "print(\"The reversed list is\",lis5[::-1])"
      ],
      "metadata": {
        "colab": {
          "base_uri": "https://localhost:8080/"
        },
        "id": "1h_-icLr5nZ6",
        "outputId": "c9b20e0e-b897-451e-c36a-cb282d81ff65"
      },
      "execution_count": 25,
      "outputs": [
        {
          "output_type": "stream",
          "name": "stdout",
          "text": [
            "The reversed list is [50, 40, 30, 20, 10]\n"
          ]
        }
      ]
    },
    {
      "cell_type": "code",
      "source": [
        "# 11. Write a code to create a tuple with the elements 10, 20, 30 and print it.\n",
        "tup1 = (10,20,30)# tuple initilization\n",
        "print(\"the tuple is\",tup1)\n",
        "for i in tup1:#elements of tuple\n",
        "  print(i)\n"
      ],
      "metadata": {
        "colab": {
          "base_uri": "https://localhost:8080/"
        },
        "id": "s_cvQ1n456hE",
        "outputId": "22a7e5a1-8146-4267-d6b8-b6f43061436e"
      },
      "execution_count": 31,
      "outputs": [
        {
          "output_type": "stream",
          "name": "stdout",
          "text": [
            "the tupple is (10, 20, 30)\n",
            "10\n",
            "20\n",
            "30\n"
          ]
        }
      ]
    },
    {
      "cell_type": "code",
      "source": [
        "# 12.  Write a code to access the first element of the tuple ('apple', 'banana', 'cherry').\n",
        "tup2 = ('apple', 'banana', 'cherry')\n",
        "print(\"The first element is\",tup2[0])"
      ],
      "metadata": {
        "colab": {
          "base_uri": "https://localhost:8080/"
        },
        "id": "zSH41SeO6ayB",
        "outputId": "f13fbeb2-4b6a-4c8d-a4f1-abbd07f35d3e"
      },
      "execution_count": 33,
      "outputs": [
        {
          "output_type": "stream",
          "name": "stdout",
          "text": [
            "The first element is apple\n"
          ]
        }
      ]
    },
    {
      "cell_type": "code",
      "source": [
        "# 13. Write a code to count how many times the number 2 appears in the tuple (1, 2, 3, 2, 4, 2)'\n",
        "tup3 = (1, 2, 3, 2, 4, 2)\n",
        "print(\"The number 2 appears\",tup3.count(2),\"times!\")"
      ],
      "metadata": {
        "colab": {
          "base_uri": "https://localhost:8080/"
        },
        "id": "e8DH3i8n7Pji",
        "outputId": "7231ba46-39a5-442e-fe72-380a2eb53b47"
      },
      "execution_count": 37,
      "outputs": [
        {
          "output_type": "stream",
          "name": "stdout",
          "text": [
            "The number 2 appears 3 times!\n"
          ]
        }
      ]
    },
    {
      "cell_type": "code",
      "source": [
        "tup3 = (1, 2, 3, 2, 4, 2)\n",
        "count = tup3.count(2)\n",
        "print(\"The number 2 appears {count} times\")"
      ],
      "metadata": {
        "colab": {
          "base_uri": "https://localhost:8080/"
        },
        "id": "xCXF01zo7oZb",
        "outputId": "9e3fcfcf-e9b5-42f2-bfbf-e6e0e4e8cb52"
      },
      "execution_count": 45,
      "outputs": [
        {
          "output_type": "stream",
          "name": "stdout",
          "text": [
            "The number 2 appears {count} times\n"
          ]
        }
      ]
    },
    {
      "cell_type": "code",
      "source": [
        "# 14. Write a code to find the index of the element \"cat\" in the tuple ('dog', 'cat', 'rabbit').\n",
        "tup4 = ('dog', 'cat', 'rabbit')\n",
        "print(\"The index of cat is\",tup4.index(\"cat\"))\n",
        "\n"
      ],
      "metadata": {
        "colab": {
          "base_uri": "https://localhost:8080/"
        },
        "id": "nGrK4oF077qY",
        "outputId": "add6b099-3662-4909-a6ee-a2e1e3fbc51e"
      },
      "execution_count": 52,
      "outputs": [
        {
          "output_type": "stream",
          "name": "stdout",
          "text": [
            "The index of cat is 1\n"
          ]
        }
      ]
    },
    {
      "cell_type": "code",
      "source": [
        "# 15.  Write a code to check if the element \"banana\" is in the tuple ('apple', 'orange', 'banana').\n",
        "tup6 = ('apple', 'orange', 'banana')\n",
        "if \"banana\" in tup6:\n",
        "  print(\"Yes, banana is the above tuple !\")\n"
      ],
      "metadata": {
        "colab": {
          "base_uri": "https://localhost:8080/"
        },
        "id": "l-XUHZCL8s-4",
        "outputId": "143eb989-8555-48e3-b8cb-91bd4fd319e5"
      },
      "execution_count": 54,
      "outputs": [
        {
          "output_type": "stream",
          "name": "stdout",
          "text": [
            "Yes, banana is the above tuple !\n"
          ]
        }
      ]
    },
    {
      "cell_type": "code",
      "source": [
        "# 16.  Write a code to create a set with the elements 1, 2, 3, 4, 5 and print it.\n",
        "set1 = set()\n",
        "set1.add(int(input(\"Enter 1st eleemnt = \")))\n",
        "set1.add(int(input(\"Enter 2nd eleemnt = \")))\n",
        "set1.add(int(input(\"Enter 3rd eleemnt = \")))\n",
        "set1.add(int(input(\"Enter 4th eleemnt = \")))\n",
        "set1.add(int(input(\"Enter 5th eleemnt = \")))\n",
        "print(\"the set is\",set1)"
      ],
      "metadata": {
        "colab": {
          "base_uri": "https://localhost:8080/"
        },
        "id": "Lp4o09tp9sPA",
        "outputId": "c775548d-6a42-48db-bcba-d0a11d9a53e2"
      },
      "execution_count": 60,
      "outputs": [
        {
          "output_type": "stream",
          "name": "stdout",
          "text": [
            "Enter 1st eleemnt = 1\n",
            "Enter 2nd eleemnt = 2\n",
            "Enter 3rd eleemnt = 3\n",
            "Enter 4th eleemnt = 4\n",
            "Enter 5th eleemnt = 5\n",
            "the set is {1, 2, 3, 4, 5}\n"
          ]
        }
      ]
    },
    {
      "cell_type": "code",
      "source": [
        "# 17.  Write a code to add the element 6 to the set {1, 2, 3, 4}.\n",
        "set2 = {1, 2, 3, 4}\n",
        "set2.add(6)\n",
        "print(\"The new set is\",set2)\n"
      ],
      "metadata": {
        "colab": {
          "base_uri": "https://localhost:8080/"
        },
        "id": "1v94mRaU98hH",
        "outputId": "42664350-c8b9-4b03-cf2f-086f43e29eb3"
      },
      "execution_count": 65,
      "outputs": [
        {
          "output_type": "stream",
          "name": "stdout",
          "text": [
            "The new set is {1, 2, 3, 4, 6}\n"
          ]
        }
      ]
    },
    {
      "cell_type": "code",
      "source": [
        "# 18.  Write a code to create a tuple with the elements 10, 20, 30 and print it.(repeated question)\n",
        "tup1 = (10,20,30)# tuple initilization\n",
        "print(\"the tuple is\",tup1)\n"
      ],
      "metadata": {
        "colab": {
          "base_uri": "https://localhost:8080/"
        },
        "id": "lyVJQP4K-yqp",
        "outputId": "f070a80f-dc5e-4fe8-ba6f-d90e4fa5b5a0"
      },
      "execution_count": 66,
      "outputs": [
        {
          "output_type": "stream",
          "name": "stdout",
          "text": [
            "the tuple is (10, 20, 30)\n"
          ]
        }
      ]
    },
    {
      "cell_type": "code",
      "source": [
        "# 19. Write a code to access the first element of the tuple ('apple', 'banana', 'cherry')(repeated question)\n",
        "tup7 = ('apple', 'banana', 'cherry')\n",
        "print(\"The first element of the tuple is\",tup7[0])"
      ],
      "metadata": {
        "colab": {
          "base_uri": "https://localhost:8080/"
        },
        "id": "9sd3TTH0BDPp",
        "outputId": "2414b52f-3430-40d6-cd5f-b9ec7562dba2"
      },
      "execution_count": 67,
      "outputs": [
        {
          "output_type": "stream",
          "name": "stdout",
          "text": [
            "The first element of the tuple is apple\n"
          ]
        }
      ]
    },
    {
      "cell_type": "code",
      "source": [
        "# 20.  Write a code to find the index of the element \"cat\" in the tuple ('dog', 'cat', 'rabbit')(repeated)\n",
        "tup8 = ('dog', 'cat', 'rabbit')\n",
        "print(\"The index of cat is\",tup8.index(\"cat\"))"
      ],
      "metadata": {
        "colab": {
          "base_uri": "https://localhost:8080/"
        },
        "id": "1-DvRmIYBue3",
        "outputId": "2ecac83a-ad07-4d4a-ef48-a7e29bfe65a1"
      },
      "execution_count": 68,
      "outputs": [
        {
          "output_type": "stream",
          "name": "stdout",
          "text": [
            "The index of cat is 1\n"
          ]
        }
      ]
    },
    {
      "cell_type": "code",
      "source": [
        "#  22.  Write a code to check if the element \"banana\" is in the tuple ('apple', 'orange', 'banana').\n",
        "tup9 = ('apple', 'orange', 'banana')\n",
        "if \"banana\" in tup9:\n",
        "  print(\"Yes, banana is the above tuple !\")\n",
        ""
      ],
      "metadata": {
        "colab": {
          "base_uri": "https://localhost:8080/"
        },
        "id": "SLNxTm9gCFYI",
        "outputId": "dadf402c-3a78-4d2a-8692-6c3834403ab8"
      },
      "execution_count": 69,
      "outputs": [
        {
          "output_type": "stream",
          "name": "stdout",
          "text": [
            "Yes, banana is the above tuple !\n"
          ]
        }
      ]
    },
    {
      "cell_type": "code",
      "source": [
        "# 23.  Write a code to create a set with the elements 1, 2, 3, 4, 5 and print it.\n",
        "set1 = {1,2,3,4,5}\n",
        "print(\"The set is\",set1)"
      ],
      "metadata": {
        "colab": {
          "base_uri": "https://localhost:8080/"
        },
        "id": "3exv6JeWCilD",
        "outputId": "e2d81b7c-4d70-4bc1-86c5-00a944df30d3"
      },
      "execution_count": 70,
      "outputs": [
        {
          "output_type": "stream",
          "name": "stdout",
          "text": [
            "The set is {1, 2, 3, 4, 5}\n"
          ]
        }
      ]
    },
    {
      "cell_type": "code",
      "source": [
        "# 24.  Write a code to add the element 6 to the set {1, 2, 3, 4}\n",
        "set2 = {1, 2, 3, 4}\n",
        "set2.add(6)\n",
        "print(\"The new set is\",set2)\n"
      ],
      "metadata": {
        "colab": {
          "base_uri": "https://localhost:8080/"
        },
        "id": "NFx4lXh6Dfhv",
        "outputId": "205729a4-6350-4f56-f74f-2b1ed30fd48a"
      },
      "execution_count": 72,
      "outputs": [
        {
          "output_type": "stream",
          "name": "stdout",
          "text": [
            "The new set is {1, 2, 3, 4, 6}\n"
          ]
        }
      ]
    },
    {
      "cell_type": "code",
      "source": [],
      "metadata": {
        "id": "D80YCTU7DoqG"
      },
      "execution_count": null,
      "outputs": []
    }
  ]
}